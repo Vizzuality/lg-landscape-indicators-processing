{
 "cells": [
  {
   "cell_type": "markdown",
   "metadata": {},
   "source": [
    "# Export final data to GCS"
   ]
  },
  {
   "cell_type": "code",
   "execution_count": null,
   "metadata": {},
   "outputs": [],
   "source": [
    "# Imports\n",
    "import os\n",
    "\n",
    "import eeUtil\n",
    "\n",
    "# Initialize Earth Engine\n",
    "PROJECT = os.getenv(\"GEE_PROJECT\")\n",
    "GEE_JSON = os.getenv(\"GEE_JSON\")\n",
    "eeUtil.init()"
   ]
  },
  {
   "cell_type": "code",
   "execution_count": null,
   "metadata": {},
   "outputs": [],
   "source": [
    "WORKING_FOLDER = f\"projects/{PROJECT}/assets/landscape_indicators_20230821\"\n",
    "EXPORT_BUCKET = os.getenv(\"GEE_BUCKET\")\n",
    "EXPORT_PREFIX = \"landscape_indicators_20231023\""
   ]
  },
  {
   "cell_type": "code",
   "execution_count": null,
   "metadata": {},
   "outputs": [],
   "source": [
    "export_layers = [\n",
    "    \"deforest_100m\",\n",
    "    \"deforest_carbon_100m\",\n",
    "    \"natcrop_expansion_100m\",\n",
    "    \"natcrop_reduction_100m\",\n",
    "    \"natcrop_flii_loss_100m\",\n",
    "    \"natcrop_bii_loss_100m\",\n",
    "]\n",
    "\n",
    "\n",
    "def export_final_layers():\n",
    "    return eeUtil.export(\n",
    "        [\n",
    "            a\n",
    "            for a in eeUtil.ls(WORKING_FOLDER, True)\n",
    "            if a.endswith(\"by_human_lu_50km_1000m\") or os.path.basename(a) in export_layers\n",
    "        ],\n",
    "        bucket=EXPORT_BUCKET,\n",
    "        prefix=EXPORT_PREFIX,\n",
    "        overwrite=True,\n",
    "    )\n",
    "\n",
    "\n",
    "export_final_layers()"
   ]
  }
 ],
 "metadata": {
  "language_info": {
   "name": "python"
  }
 },
 "nbformat": 4,
 "nbformat_minor": 2
}
